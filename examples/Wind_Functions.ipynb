{
 "cells": [
  {
   "cell_type": "code",
   "execution_count": 2,
   "id": "4a3e373d",
   "metadata": {},
   "outputs": [],
   "source": [
    "import numpy as np\n",
    "import matplotlib.pyplot as plt"
   ]
  },
  {
   "cell_type": "code",
   "execution_count": 15,
   "id": "2e441205",
   "metadata": {},
   "outputs": [],
   "source": [
    "def wind_function(time: float, gust_peak_time: float, gust_type: int) -> float:\n",
    "    \"\"\"\n",
    "    This function returns a scalar gust value depending on the time and gust type.\n",
    "    Based on: Cole, Kenan, and Adam Wickenheiser. \"Spatio-Temporal Wind Modeling for UAV Simulations.\" arXiv e-prints (2019): arXiv-1905.\n",
    "    \n",
    "    param@ time: current time [s]\n",
    "    param@ gust_peak_time: time of gust peak [s]\n",
    "    param@ gust_type: integer to select gust options.\n",
    "        gust_type == 0 -> semi-square impulse\n",
    "        gust_type == 1 -> custom (change values in the function as you see fit)\n",
    "        ...            -> add additional types as desired\n",
    "\n",
    "    return@ float representing a 'gust scalar', to be added to a nominal wind [m/s]\n",
    "    \"\"\"\n",
    "    if gust_type == 0: #Semi-Square Pulse\n",
    "        tg1 = 0.1 #rising time\n",
    "        tg2 = 0.1 #falling time\n",
    "        th = 1  #holding time\n",
    "        g1 = 1  #peak gust value\n",
    "        g3 = 6 #change 'curvature'\n",
    "        g4 = .1 #change magnitude of dip before gust\n",
    "        g5 = .1 #change magnitude of dip after gust\n",
    "    elif gust_type == 1: #Custom\n",
    "        tg1 = 1 #rising time\n",
    "        tg2 = 1 #falling time\n",
    "        th = 1  #holding time\n",
    "        g1 = 1  #peak gust value\n",
    "        g3 = .3 #change 'curvature'\n",
    "        g4 = 1 #change magnitude of dip before gust\n",
    "        g5 = 2 #change magnitude of dip after gust\n",
    "    else:\n",
    "        print('No known gust_type specified.')\n",
    "        return 0\n",
    "\n",
    "    g2r = 2*g3/tg1\n",
    "    g2f = 2*g3/tg2\n",
    "    \n",
    "    t1 = np.linspace(-t_off,0.5*tg1)\n",
    "    t2 = np.linspace(0.5*tg1,0.5*tg1+th)\n",
    "    t3 = np.linspace(0.5*tg1+th,0.5*tg1+th+t_off)\n",
    "    t = time - gust_peak_time\n",
    "    \n",
    "    if t<0.5*tg1: #Rising portion\n",
    "        return g1*(1-(g2r*t-g3)**2)*np.exp(-(g2r*t-g3)**2/g4)\n",
    "    elif t<0.5*tg1+th: #Holding portion\n",
    "        return g1\n",
    "    else: #Falling portion\n",
    "        tstar = t + 0.5*(tg2 - tg1)-th\n",
    "        return g1*(1-(g2f*tstar-g3)**2)*np.exp(-(g2f*tstar-g3)**2/g5)"
   ]
  },
  {
   "cell_type": "code",
   "execution_count": 20,
   "id": "a0250a2d",
   "metadata": {},
   "outputs": [
    {
     "data": {
      "text/plain": [
       "Text(0.5, 1.0, 'Gust shape vs. time')"
      ]
     },
     "execution_count": 20,
     "metadata": {},
     "output_type": "execute_result"
    },
    {
     "data": {
      "image/png": "[encoded data removed]",
      "text/plain": [
       "<Figure size 432x288 with 1 Axes>"
      ]
     },
     "metadata": {
      "needs_background": "light"
     },
     "output_type": "display_data"
    }
   ],
   "source": [
    "# Test function\n",
    "tspan = np.linspace(0,15,100)\n",
    "winds = []\n",
    "for t in tspan:\n",
    "    winds.append(wind_function(t,5,1))\n",
    "plt.plot(tspan,winds)\n",
    "plt.xlabel('time t s')\n",
    "plt.ylabel('gust scalar m/s')\n",
    "plt.title('Gust shape vs. time')"
   ]
  },
  {
   "cell_type": "code",
   "execution_count": 89,
   "id": "e5527f36",
   "metadata": {},
   "outputs": [],
   "source": [
    "if 0<0: print(1)"
   ]
  },
  {
   "cell_type": "code",
   "execution_count": null,
   "id": "81ccb6d5",
   "metadata": {},
   "outputs": [],
   "source": []
  }
 ],
 "metadata": {
  "kernelspec": {
   "display_name": "Python 3",
   "language": "python",
   "name": "python3"
  },
  "language_info": {
   "codemirror_mode": {
    "name": "ipython",
    "version": 3
   },
   "file_extension": ".py",
   "mimetype": "text/x-python",
   "name": "python",
   "nbconvert_exporter": "python",
   "pygments_lexer": "ipython3",
   "version": "3.8.10"
  }
 },
 "nbformat": 4,
 "nbformat_minor": 5
}
